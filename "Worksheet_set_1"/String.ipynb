{
 "cells": [
  {
   "cell_type": "markdown",
   "id": "ed12800e",
   "metadata": {},
   "source": [
    "#  Program to check if a string is palindrome or not"
   ]
  },
  {
   "cell_type": "code",
   "execution_count": 1,
   "id": "7d3e345c",
   "metadata": {},
   "outputs": [],
   "source": [
    "my_str = 'aIbohPhoBiA'"
   ]
  },
  {
   "cell_type": "markdown",
   "id": "7fcc73d7",
   "metadata": {},
   "source": [
    "#make it suitable for caseless comparison"
   ]
  },
  {
   "cell_type": "code",
   "execution_count": 2,
   "id": "cc33764c",
   "metadata": {},
   "outputs": [],
   "source": [
    "my_str = my_str.casefold()"
   ]
  },
  {
   "cell_type": "code",
   "execution_count": 3,
   "id": "dca979de",
   "metadata": {},
   "outputs": [
    {
     "name": "stdout",
     "output_type": "stream",
     "text": [
      "The string is a palindrome.\n"
     ]
    }
   ],
   "source": [
    "rev_str = reversed(my_str)\n",
    "\n",
    "# check if the string is equal to its reverse\n",
    "if list(my_str) == list(rev_str):\n",
    "   print(\"The string is a palindrome.\")\n",
    "else:\n",
    "   print(\"The string is not a palindrome.\")"
   ]
  }
 ],
 "metadata": {
  "kernelspec": {
   "display_name": "Python 3 (ipykernel)",
   "language": "python",
   "name": "python3"
  },
  "language_info": {
   "codemirror_mode": {
    "name": "ipython",
    "version": 3
   },
   "file_extension": ".py",
   "mimetype": "text/x-python",
   "name": "python",
   "nbconvert_exporter": "python",
   "pygments_lexer": "ipython3",
   "version": "3.9.7"
  }
 },
 "nbformat": 4,
 "nbformat_minor": 5
}
