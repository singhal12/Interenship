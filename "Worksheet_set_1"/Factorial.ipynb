{
 "cells": [
  {
   "cell_type": "markdown",
   "id": "34b050b1",
   "metadata": {},
   "source": [
    "# Write a python program to find the factorial of a number.\n"
   ]
  },
  {
   "cell_type": "code",
   "execution_count": 2,
   "id": "d1a718a6",
   "metadata": {},
   "outputs": [],
   "source": [
    "num=3"
   ]
  },
  {
   "cell_type": "code",
   "execution_count": 3,
   "id": "b368a003",
   "metadata": {},
   "outputs": [],
   "source": [
    "factorial=1"
   ]
  },
  {
   "cell_type": "markdown",
   "id": "f70c94e2",
   "metadata": {},
   "source": [
    "#check if the number is negative, positive or zero"
   ]
  },
  {
   "cell_type": "code",
   "execution_count": null,
   "id": "9fe3f38c",
   "metadata": {},
   "outputs": [],
   "source": [
    "if num < 0:"
   ]
  },
  {
   "cell_type": "code",
   "execution_count": 5,
   "id": "1929267e",
   "metadata": {},
   "outputs": [
    {
     "name": "stdout",
     "output_type": "stream",
     "text": [
      "The factorial of 3 is 6\n"
     ]
    }
   ],
   "source": [
    "if num < 0:\n",
    "   print(\"Sorry, factorial does not exist for negative numbers\")\n",
    "elif num == 0:\n",
    "   print(\"The factorial of 0 is 1\")\n",
    "else:\n",
    "   for i in range(1,num + 1):\n",
    "       factorial = factorial*i\n",
    "   print(\"The factorial of\",num,\"is\",factorial)"
   ]
  },
  {
   "cell_type": "raw",
   "id": "bdb48fb4",
   "metadata": {},
   "source": []
  }
 ],
 "metadata": {
  "kernelspec": {
   "display_name": "Python 3 (ipykernel)",
   "language": "python",
   "name": "python3"
  },
  "language_info": {
   "codemirror_mode": {
    "name": "ipython",
    "version": 3
   },
   "file_extension": ".py",
   "mimetype": "text/x-python",
   "name": "python",
   "nbconvert_exporter": "python",
   "pygments_lexer": "ipython3",
   "version": "3.9.7"
  }
 },
 "nbformat": 4,
 "nbformat_minor": 5
}
