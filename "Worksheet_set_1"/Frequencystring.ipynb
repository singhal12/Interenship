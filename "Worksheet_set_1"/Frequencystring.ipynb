{
 "cells": [
  {
   "cell_type": "markdown",
   "id": "007c8bf9",
   "metadata": {},
   "source": [
    "# A  python program to print the frequency of each of the characters present in a given string."
   ]
  },
  {
   "cell_type": "code",
   "execution_count": 1,
   "id": "8ababf4f",
   "metadata": {},
   "outputs": [
    {
     "data": {
      "text/plain": [
       "Counter({'A': 1, 'r': 1, 'c': 1, 'h': 1, 'i': 1, 't': 1})"
      ]
     },
     "execution_count": 1,
     "metadata": {},
     "output_type": "execute_result"
    }
   ],
   "source": [
    "import collections\n",
    "A='Archit'\n",
    "collections.Counter(A)"
   ]
  },
  {
   "cell_type": "code",
   "execution_count": null,
   "id": "293f4234",
   "metadata": {},
   "outputs": [],
   "source": []
  }
 ],
 "metadata": {
  "kernelspec": {
   "display_name": "Python 3 (ipykernel)",
   "language": "python",
   "name": "python3"
  },
  "language_info": {
   "codemirror_mode": {
    "name": "ipython",
    "version": 3
   },
   "file_extension": ".py",
   "mimetype": "text/x-python",
   "name": "python",
   "nbconvert_exporter": "python",
   "pygments_lexer": "ipython3",
   "version": "3.9.7"
  }
 },
 "nbformat": 4,
 "nbformat_minor": 5
}
